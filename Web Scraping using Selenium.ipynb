{
 "cells": [
  {
   "cell_type": "markdown",
   "metadata": {},
   "source": [
    "# WEB SCRAPING using SELENIUM"
   ]
  },
  {
   "cell_type": "markdown",
   "metadata": {},
   "source": [
    "### Web Scraping:-"
   ]
  },
  {
   "cell_type": "code",
   "execution_count": 1,
   "metadata": {},
   "outputs": [
    {
     "name": "stdout",
     "output_type": "stream",
     "text": [
      "Start Time 2021-04-25 23:21:28.027386\n"
     ]
    }
   ],
   "source": [
    "# load library\n",
    "import csv\n",
    "import time\n",
    "from selenium import webdriver\n",
    "import pandas as pd\n",
    "from bs4 import BeautifulSoup\n",
    "from datetime import datetime\n",
    "print(\"Start Time\", datetime.now())"
   ]
  },
  {
   "cell_type": "code",
   "execution_count": 2,
   "metadata": {},
   "outputs": [],
   "source": [
    "options = webdriver.ChromeOptions()\n",
    "driver = webdriver.Chrome(\"./chromedriver\")"
   ]
  },
  {
   "cell_type": "code",
   "execution_count": 3,
   "metadata": {},
   "outputs": [],
   "source": [
    "# create dictionary\n",
    "jobs={\"Jobtitle\":[],\n",
    "     \"Companies\":[],\n",
    "     \"Locations\":[],\n",
    "     \"Experience\":[],\n",
    "     \"Skills\":[],\n",
    "     \"Salary\":[],\n",
    "     \"Reviews\":[],\n",
    "     \"Age of post\":[],\n",
    "     \"Job type\":[],\n",
    "     \"Logo\":[],\n",
    "     \"Rating\":[],\n",
    "     \"Job Description\":[]}"
   ]
  },
  {
   "cell_type": "code",
   "execution_count": 4,
   "metadata": {},
   "outputs": [
    {
     "name": "stdout",
     "output_type": "stream",
     "text": [
      "251\n",
      "Loop 2021-04-25 23:21:29.527407\n"
     ]
    }
   ],
   "source": [
    "# link of website you want to scrap\n",
    "for i in range(251,252):\n",
    "    print(i)\n",
    "    print(\"Loop\", datetime.now())\n",
    "    driver.get(\"https://www.naukri.com/data-scientist-jobs-{}\".format(i))\n",
    "    time.sleep(2)\n",
    "    lst=driver.find_elements_by_css_selector(\".jobTuple.bgWhite.br4.mb-8\")\n",
    "    \n",
    "    # scrape the data from website\n",
    "    for job in lst:\n",
    "        driver.implicitly_wait(2)\n",
    "        try:\n",
    "            jobtitle=job.find_element_by_css_selector(\"a.title.fw500.ellipsis\").text\n",
    "        except:\n",
    "            jobtitle=\"None\"\n",
    "        try:\n",
    "            company=job.find_element_by_css_selector(\"a.subTitle.ellipsis.fleft\").text\n",
    "        except:\n",
    "            company=\"None\"\n",
    "        try:\n",
    "            location=job.find_element_by_css_selector(\".fleft.grey-text.br2.placeHolderLi.location\").text\n",
    "        except:\n",
    "            location=\"None\"\n",
    "        try:\n",
    "            exp=job.find_element_by_css_selector(\".fleft.grey-text.br2.placeHolderLi.experience\").text\n",
    "        except:\n",
    "            exp=\"None\"\n",
    "        try:\n",
    "            skills=job.find_element_by_css_selector(\".tags.has-description\").text\n",
    "        except:\n",
    "            skills=\"None\"\n",
    "        try:\n",
    "            salary = job.find_element_by_css_selector(\".fleft.grey-text.br2.placeHolderLi.salary\").text\n",
    "        except:\n",
    "            salary=\"None\"\n",
    "        try:\n",
    "            reviews=job.find_element_by_css_selector(\".reviewsCount.ml-5.fleft.blue-text\").text\n",
    "            reviews=reviews.replace(\" Reviews)\",\"\")\n",
    "            reviews=reviews.replace(\"(\",\"\")\n",
    "        except:\n",
    "            reviews=0\n",
    "        try:\n",
    "            age=job.find_element_by_css_selector(\".type.br2.fleft.grey\").text\n",
    "        except:\n",
    "            age=\"None\"\n",
    "        try:\n",
    "            jtype=job.find_element_by_css_selector(\".fleft.fw500\").text\n",
    "            if jtype ==age:\n",
    "                jtype = 'None'\n",
    "            if jtype in ('Just Now','Few Hours Ago'):\n",
    "                age =jtype\n",
    "                jtype = 'None'\n",
    "        except:\n",
    "            jtype=\"None\"\n",
    "        try:\n",
    "            logo=job.find_element_by_css_selector(\".imgCont.fright\").text\n",
    "            logo=\"Logo Present\"\n",
    "        except:\n",
    "            logo=\"No Logo\"\n",
    "        try:\n",
    "            rating=job.find_element_by_css_selector(\".starRating.fleft.dot\").text\n",
    "        except:\n",
    "            rating=\"None\"\n",
    "        try:\n",
    "            jobdesc=job.find_element_by_css_selector(\".job-description.fs12.grey-text\").text\n",
    "        except:\n",
    "            jobdesc=\"None\"\n",
    "        jobs[\"Jobtitle\"].append(jobtitle)\n",
    "        jobs[\"Companies\"].append(company)\n",
    "        jobs[\"Locations\"].append(location)\n",
    "        jobs[\"Experience\"].append(exp)\n",
    "        jobs[\"Skills\"].append(skills)\n",
    "        jobs[\"Salary\"].append(salary)\n",
    "        jobs[\"Reviews\"].append(reviews)\n",
    "        jobs[\"Age of post\"].append(age)\n",
    "        jobs[\"Job type\"].append(jtype)\n",
    "        jobs[\"Logo\"].append(logo)\n",
    "        jobs[\"Rating\"].append(rating)\n",
    "        jobs[\"Job Description\"].append(jobdesc)"
   ]
  },
  {
   "cell_type": "code",
   "execution_count": 5,
   "metadata": {},
   "outputs": [],
   "source": [
    "# print scrape data\n",
    "#print(jobs)"
   ]
  },
  {
   "cell_type": "code",
   "execution_count": 6,
   "metadata": {},
   "outputs": [],
   "source": [
    "# tranform data into dataframe\n",
    "df=pd.DataFrame.from_dict(jobs)\n",
    "#df.head(10)"
   ]
  },
  {
   "cell_type": "markdown",
   "metadata": {},
   "source": [
    "### Pre-Processing:-"
   ]
  },
  {
   "cell_type": "code",
   "execution_count": 7,
   "metadata": {},
   "outputs": [],
   "source": [
    "# lower case all the strings to avoid redundancy\n",
    "df=df.apply(lambda x: x.astype(str).str.lower())\n",
    "#df.head()"
   ]
  },
  {
   "cell_type": "code",
   "execution_count": 8,
   "metadata": {},
   "outputs": [],
   "source": [
    "# there are more than one loaction and skills are attached to each job, let split the location and skill\n",
    "df.Skills=[skill.split(\"\\n\") for skill in df.Skills]\n",
    "df.Locations=[location.split(\",\") for location in df.Locations]\n",
    "#df[15:25]"
   ]
  },
  {
   "cell_type": "code",
   "execution_count": 9,
   "metadata": {},
   "outputs": [],
   "source": [
    "# information about columns in dataframe\n",
    "#df.info()"
   ]
  },
  {
   "cell_type": "code",
   "execution_count": 10,
   "metadata": {},
   "outputs": [
    {
     "data": {
      "text/plain": [
       "Jobtitle           0\n",
       "Companies          0\n",
       "Locations          0\n",
       "Experience         0\n",
       "Skills             0\n",
       "Salary             0\n",
       "Reviews            0\n",
       "Age of post        0\n",
       "Job type           0\n",
       "Logo               0\n",
       "Rating             0\n",
       "Job Description    0\n",
       "dtype: int64"
      ]
     },
     "execution_count": 10,
     "metadata": {},
     "output_type": "execute_result"
    }
   ],
   "source": [
    "# check if any data have null values\n",
    "df.isnull().sum()"
   ]
  },
  {
   "cell_type": "code",
   "execution_count": 11,
   "metadata": {},
   "outputs": [],
   "source": [
    "# drop the missing value\n",
    "df=df.dropna()"
   ]
  },
  {
   "cell_type": "code",
   "execution_count": null,
   "metadata": {},
   "outputs": [],
   "source": []
  },
  {
   "cell_type": "markdown",
   "metadata": {},
   "source": [
    "### Saving:-"
   ]
  },
  {
   "cell_type": "code",
   "execution_count": 12,
   "metadata": {},
   "outputs": [
    {
     "name": "stdout",
     "output_type": "stream",
     "text": [
      "End Time 2021-04-25 23:22:55.970452\n"
     ]
    }
   ],
   "source": [
    "df.to_csv('Page251-252.csv')\n",
    "print(\"End Time\", datetime.now())"
   ]
  }
 ],
 "metadata": {
  "kernelspec": {
   "display_name": "Python 3",
   "language": "python",
   "name": "python3"
  },
  "language_info": {
   "codemirror_mode": {
    "name": "ipython",
    "version": 3
   },
   "file_extension": ".py",
   "mimetype": "text/x-python",
   "name": "python",
   "nbconvert_exporter": "python",
   "pygments_lexer": "ipython3",
   "version": "3.8.5"
  }
 },
 "nbformat": 4,
 "nbformat_minor": 4
}
